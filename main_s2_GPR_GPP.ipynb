{
  "cells": [
    {
      "cell_type": "code",
      "execution_count": null,
      "metadata": {
        "id": "reLJGuL3CLOL"
      },
      "outputs": [],
      "source": [
        "!pip install geemap --quiet\n",
        "!pip install earthengine-api --quiet\n",
        "!pip install PyCRS --quiet\n",
        "!pip install restee --quiet\n",
        "!pip install config --quiet\n",
        "!pip install geojson --quiet\n",
        "\n",
        "import geemap, ee, os, sys, pycrs, datetime\n",
        "import geemap.colormaps as cm\n",
        "\n",
        "from ipyleaflet import *\n",
        "from ipywidgets import Label\n",
        "import pandas as pd\n",
        "import numpy as np\n",
        "import matplotlib.pyplot as plt\n",
        "\n",
        "import matplotlib.dates as mdates\n",
        "import matplotlib.ticker as ticker\n",
        "\n",
        "import config\n",
        "import json\n",
        "import csv\n",
        "import geojson\n",
        "import geopandas as gpd\n",
        "import rasterio\n",
        "import importlib\n",
        "import numpy  as np\n",
        "\n",
        "import requests\n",
        "import zipfile\n",
        "import os\n",
        "from os import listdir\n",
        "from os.path import isfile,join"
      ]
    },
    {
      "cell_type": "code",
      "execution_count": null,
      "metadata": {
        "colab": {
          "base_uri": "https://localhost:8080/",
          "height": 17
        },
        "id": "1lbO9KxeCOLR",
        "outputId": "61d50d05-0211-464b-91be-cd172b77d6a6"
      },
      "outputs": [
        {
          "output_type": "display_data",
          "data": {
            "text/plain": [
              "<IPython.core.display.HTML object>"
            ],
            "text/html": [
              "\n",
              "            <style>\n",
              "                .geemap-dark {\n",
              "                    --jp-widgets-color: white;\n",
              "                    --jp-widgets-label-color: white;\n",
              "                    --jp-ui-font-color1: white;\n",
              "                    --jp-layout-color2: #454545;\n",
              "                    background-color: #383838;\n",
              "                }\n",
              "\n",
              "                .geemap-dark .jupyter-button {\n",
              "                    --jp-layout-color3: #383838;\n",
              "                }\n",
              "\n",
              "                .geemap-colab {\n",
              "                    background-color: var(--colab-primary-surface-color, white);\n",
              "                }\n",
              "\n",
              "                .geemap-colab .jupyter-button {\n",
              "                    --jp-layout-color3: var(--colab-primary-surface-color, white);\n",
              "                }\n",
              "            </style>\n",
              "            "
            ]
          },
          "metadata": {}
        }
      ],
      "source": [
        "# ADJUST TO YOUR CREDENTIALS\n",
        "\n",
        "ee.Authenticate()\n",
        "ee.Initialize(project='ee-yourproject')"
      ]
    },
    {
      "cell_type": "code",
      "execution_count": null,
      "metadata": {
        "colab": {
          "base_uri": "https://localhost:8080/",
          "height": 34
        },
        "id": "-frZtEP4QZXm",
        "outputId": "49a9143c-7ed3-4ec4-a6f0-96581a23f158"
      },
      "outputs": [
        {
          "output_type": "display_data",
          "data": {
            "text/plain": [
              "<IPython.core.display.HTML object>"
            ],
            "text/html": [
              "\n",
              "            <style>\n",
              "                .geemap-dark {\n",
              "                    --jp-widgets-color: white;\n",
              "                    --jp-widgets-label-color: white;\n",
              "                    --jp-ui-font-color1: white;\n",
              "                    --jp-layout-color2: #454545;\n",
              "                    background-color: #383838;\n",
              "                }\n",
              "\n",
              "                .geemap-dark .jupyter-button {\n",
              "                    --jp-layout-color3: #383838;\n",
              "                }\n",
              "\n",
              "                .geemap-colab {\n",
              "                    background-color: var(--colab-primary-surface-color, white);\n",
              "                }\n",
              "\n",
              "                .geemap-colab .jupyter-button {\n",
              "                    --jp-layout-color3: var(--colab-primary-surface-color, white);\n",
              "                }\n",
              "            </style>\n",
              "            "
            ]
          },
          "metadata": {}
        },
        {
          "output_type": "stream",
          "name": "stdout",
          "text": [
            "Mounted at /content/drive\n"
          ]
        }
      ],
      "source": [
        "# ADJUST TO YOUR PATH\n",
        "\n",
        "from google.colab import drive\n",
        "drive.mount('/content/drive', force_remount=True)\n",
        "\n",
        "!cp /content/drive/MyDrive/GPPmodels/CRO_model_GPP.py .\n",
        "import CRO_model_GPP as model_GPP_CRO\n",
        "\n",
        "!cp /content/drive/MyDrive/GPPmodels/CSH_model_GPP.py .\n",
        "import CSH_model_GPP as model_GPP_CSH\n",
        "\n",
        "!cp /content/drive/MyDrive/GPPmodels/DBF_model_GPP.py .\n",
        "import DBF_model_GPP as model_GPP_DBF\n",
        "\n",
        "!cp /content/drive/MyDrive/GPPmodels/EBF_model_GPP.py .\n",
        "import EBF_model_GPP as model_GPP_EBF\n",
        "\n",
        "!cp /content/drive/MyDrive/GPPmodels/ENF_model_GPP.py .\n",
        "import ENF_model_GPP as model_GPP_ENF\n",
        "\n",
        "!cp /content/drive/MyDrive/GPPmodels/GRA_model_GPP.py .\n",
        "import GRA_model_GPP as model_GPP_GRA\n",
        "\n",
        "!cp /content/drive/MyDrive/GPPmodels/MF_model_GPP.py .\n",
        "import MF_model_GPP as model_GPP_MF\n",
        "\n",
        "!cp /content/drive/MyDrive/GPPmodels/OSH_model_GPP.py .\n",
        "import OSH_model_GPP as model_GPP_OSH\n",
        "\n",
        "!cp /content/drive/MyDrive/GPPmodels/SAV_model_GPP.py .\n",
        "import SAV_model_GPP as model_GPP_SAV\n",
        "\n",
        "!cp /content/drive/MyDrive/GPPmodels/WET_model_GPP.py .\n",
        "import WET_model_GPP as model_GPP_WET"
      ]
    },
    {
      "cell_type": "code",
      "execution_count": null,
      "metadata": {
        "colab": {
          "base_uri": "https://localhost:8080/",
          "height": 17
        },
        "id": "gKvbmXd5DX7h",
        "outputId": "dc1961ad-9326-4418-fb7d-d1f8c31c47f6"
      },
      "outputs": [
        {
          "output_type": "display_data",
          "data": {
            "text/plain": [
              "<IPython.core.display.HTML object>"
            ],
            "text/html": [
              "\n",
              "            <style>\n",
              "                .geemap-dark {\n",
              "                    --jp-widgets-color: white;\n",
              "                    --jp-widgets-label-color: white;\n",
              "                    --jp-ui-font-color1: white;\n",
              "                    --jp-layout-color2: #454545;\n",
              "                    background-color: #383838;\n",
              "                }\n",
              "\n",
              "                .geemap-dark .jupyter-button {\n",
              "                    --jp-layout-color3: #383838;\n",
              "                }\n",
              "\n",
              "                .geemap-colab {\n",
              "                    background-color: var(--colab-primary-surface-color, white);\n",
              "                }\n",
              "\n",
              "                .geemap-colab .jupyter-button {\n",
              "                    --jp-layout-color3: var(--colab-primary-surface-color, white);\n",
              "                }\n",
              "            </style>\n",
              "            "
            ]
          },
          "metadata": {}
        }
      ],
      "source": [
        "# ADJUST TO YOUR REGION OF INTEREST\n",
        "\n",
        "# Example polygon\n",
        "DBF_CZ_Stn_100m = ee.Geometry.Polygon([[[17.968539226026834, 49.03583854094053],[17.96860896346122, 49.03568028280741],[17.968700158567728, 49.035543125351474],[17.968818175764383, 49.035423551876185],\n",
        "          [17.968968379469217, 49.03531101187216],[17.9691454052642, 49.035223089816846],[17.96935461756736, 49.035152752060746],[17.96964429614097, 49.03509648178424],[17.96992324587852, 49.035078897309766],\n",
        "          [17.970207560034098, 49.03509648178424],[17.970475780935587, 49.0351633027305],[17.970706450910868, 49.035247708007994],[17.970910298796, 49.03537079878099],[17.971081960172953, 49.03550795671209],\n",
        "          [17.971216070623697, 49.035697867069295],[17.971269714803995, 49.03586667566702],[17.971269714803995, 49.03605306782822],[17.971226799459757, 49.03624297610432],[17.971098053427042, 49.036429366855465],\n",
        "          [17.97091566321403, 49.0365841058164],[17.970722544164957, 49.036703676501965],[17.970481145353617, 49.036791595940336],[17.97018610236198, 49.03685489783976],[17.96989642378837, 49.036883031991415],\n",
        "          [17.969590651960672, 49.03684786429935],[17.969349253149332, 49.036795112714636],[17.969102489919962, 49.03671774362256],[17.96890937087089, 49.03660168975877],[17.968759167166056, 49.036475085234926],\n",
        "          [17.96864651438743, 49.036344963582984],[17.968560683698954, 49.036186707061056],[17.968523132772745, 49.035989764908386]]])"
      ]
    },
    {
      "cell_type": "code",
      "execution_count": null,
      "metadata": {
        "colab": {
          "base_uri": "https://localhost:8080/",
          "height": 17
        },
        "id": "A2apFJTtCRYp",
        "outputId": "b44c8161-760e-4bb5-a920-9455aae035d4"
      },
      "outputs": [
        {
          "output_type": "display_data",
          "data": {
            "text/plain": [
              "<IPython.core.display.HTML object>"
            ],
            "text/html": [
              "\n",
              "            <style>\n",
              "                .geemap-dark {\n",
              "                    --jp-widgets-color: white;\n",
              "                    --jp-widgets-label-color: white;\n",
              "                    --jp-ui-font-color1: white;\n",
              "                    --jp-layout-color2: #454545;\n",
              "                    background-color: #383838;\n",
              "                }\n",
              "\n",
              "                .geemap-dark .jupyter-button {\n",
              "                    --jp-layout-color3: #383838;\n",
              "                }\n",
              "\n",
              "                .geemap-colab {\n",
              "                    background-color: var(--colab-primary-surface-color, white);\n",
              "                }\n",
              "\n",
              "                .geemap-colab .jupyter-button {\n",
              "                    --jp-layout-color3: var(--colab-primary-surface-color, white);\n",
              "                }\n",
              "            </style>\n",
              "            "
            ]
          },
          "metadata": {}
        }
      ],
      "source": [
        "########################################################################\n",
        "# ADJUST\n",
        "\n",
        "# SELECT TIME FRAME\n",
        "startDateStr = '2017-03-21'\n",
        "endDateStr = '2021-01-01'\n",
        "timeWindows = 1\n",
        "\n",
        "# SELECT REGION\n",
        "roi = DBF_CZ_Stn_100m\n",
        "\n",
        "# SELECT MODEL\n",
        "variable = 'GPP_DBF'\n",
        "\n",
        "# SET EXPORT PATH\n",
        "assetPath='projects/ee-declerckem3/assets/GPR-S2-GPP/MF-CZ-Lnz-100m/'\n",
        "\n",
        "########################################################################\n"
      ]
    },
    {
      "cell_type": "code",
      "source": [
        "# Set some variables\n",
        "S2MSI = ee.ImageCollection(\"COPERNICUS/S2_SR_HARMONIZED\")\n",
        "scaleFactor_S2 = 0.0001\n",
        "variables_GREEN = {variable:[variable, 35, 0.001]}\n",
        "sys.setrecursionlimit(10000000)\n",
        "\n",
        "\n",
        "# Clouds mask\n",
        "def maskS2cloud(image):\n",
        "    scl = image.select('SCL')\n",
        "    mask = scl.neq(3).And(  # 3 = Cloud shadows\n",
        "           scl.neq(8).And(  # 8 = Cloud medium probability\n",
        "           scl.neq(9).And(  # 9 = Cloud high probability\n",
        "           scl.neq(10))))   # 10 = Thin cirrus\n",
        "    return image.updateMask(mask).divide(10000).copyProperties(image, image.propertyNames())\n",
        "\n",
        "def apply_snow_mask(image):\n",
        "    # Calculate NDSI\n",
        "    ndsi = image.normalizedDifference(['B3', 'B11']).rename('NDSI')\n",
        "    snow_mask = ndsi.lt(0.4)\n",
        "    return image.updateMask(snow_mask)\n",
        "\n",
        "# Bare cover and water mask\n",
        "# bare_cover = ee.Image(\"COPERNICUS/Landcover/100m/Proba-V-C3/Global/2019\").select('bare-coverfraction').lte(90);\n",
        "# lakes = ee.Image(\"COPERNICUS/Landcover/100m/Proba-V-C3/Global/2019\").select('discrete_classification').eq(80)\n",
        "# lakemask = lakes.eq(0);\n",
        "\n",
        "\n",
        "# Some auxilary functions\n",
        "def sequence_GREEN(variable):\n",
        "\tsequence_GREEN = []\n",
        "\tmodel = globals()['model_' + variable]\n",
        "\tfor i in range(0, model.XTrain_dim_GREEN):\n",
        "\t\tsequence_GREEN.append(str(i))\n",
        "\treturn sequence_GREEN\n",
        "\n",
        "def getInputDates(i, startDateGEE):\n",
        "    fecha_inicio = startDateGEE.advance(ee.Number(i).multiply(timeWindows), 'day')\n",
        "    fecha_fin = fecha_inicio.advance(timeWindows, 'day')\n",
        "    fecha_str = datetime.datetime.utcfromtimestamp(fecha_inicio.getInfo()['value'] / 1000.0).strftime('%Y%m%d')\n",
        "    return {'fecha_inicio': fecha_inicio, 'fecha_fin': fecha_fin, 'fecha_str': fecha_str}\n",
        "\n",
        "def addVariables(image):\n",
        "  date = ee.Date(image.get(\"system:time_start\"));\n",
        "  years = date.difference(ee.Date('1970-01-01'),'days');\n",
        "  return image.addBands(ee.Image(years).rename('t').float());\n",
        "\n",
        "\n",
        "# Gaussian processes formulation\n",
        "def calculate_GREEN(fecha_inicio, fecha_fin, variable):\n",
        "\n",
        "  model = globals()['model_' + variable]\n",
        "\n",
        "  image = ee.Image(S2MSI\n",
        "  .filterDate(fecha_inicio, fecha_fin)\n",
        "  .filterBounds(roi)\n",
        "  .filterMetadata('CLOUDY_PIXEL_PERCENTAGE', 'less_than', 20)\n",
        "  .map(maskS2cloud)\n",
        "  .map(apply_snow_mask)\n",
        "  .select(['B2', 'B3', 'B4', 'B5', 'B6', 'B7', 'B8', 'B8A', 'B11', 'B12'])\n",
        "  .mean()\n",
        "  # .multiply(scaleFactor_S2) # comment out if already integrated in the cloud mask\n",
        "  )\n",
        "\n",
        "  im_norm_ell2D_hypell = image.subtract(model.mx_GREEN).divide(model.sx_GREEN).multiply(model.hyp_ell_GREEN).toArray().toArray(1);\n",
        "  im_norm_ell2D = image.subtract(model.mx_GREEN).divide(model.sx_GREEN).toArray().toArray(1);\n",
        "  PtTPt  = im_norm_ell2D_hypell.matrixTranspose().matrixMultiply(im_norm_ell2D).arrayProject([0]).multiply(-0.5); #OK\n",
        "  PtTDX  = ee.Image(model.X_train_GREEN).matrixMultiply(im_norm_ell2D_hypell).arrayProject([0]).arrayFlatten([sequence_GREEN(variable)]);\n",
        "  arg1   = PtTPt.exp().multiply(model.hyp_sig_GREEN);\n",
        "  k_star = PtTDX.subtract(model.XDX_pre_calc_GREEN.multiply(0.5)).exp().toArray();\n",
        "  mean_pred = k_star.arrayDotProduct(model.alpha_coefficients_GREEN.toArray()).multiply(arg1);\n",
        "  mean_pred = mean_pred.toArray(1).arrayProject([0]).arrayFlatten([[variable]]);\n",
        "  mean_pred = mean_pred.add(model.mean_model_GREEN);\n",
        "  k_star_uncert = PtTDX.subtract(model.XDX_pre_calc_GREEN.multiply(0.5)).exp().multiply(arg1).toArray();\n",
        "  Vvector = ee.Image(model.Linv_pre_calc_GREEN).matrixMultiply(k_star_uncert.toArray(0).toArray(1)).arrayProject([0])\n",
        "  Variance = ee.Image(model.hyp_sig_unc_GREEN).toArray().subtract(Vvector.arrayDotProduct(Vvector)).abs().sqrt()\n",
        "  Variance = Variance.toArray(1).arrayProject([0]).arrayFlatten([[variable + '_UNC']])\n",
        "\n",
        "  image= image.addBands(mean_pred);\n",
        "  image = image.addBands(Variance);\n",
        "\n",
        "  return image.select(variable, variable + '_UNC')\n",
        "\n",
        "\n",
        "#Iterations:\n",
        "def maploop():\n",
        "    startDate = datetime.datetime.strptime(startDateStr, \"%Y-%m-%d\").date()\n",
        "    endDate = datetime.datetime.strptime(endDateStr, \"%Y-%m-%d\").date()\n",
        "    daysIterations = (endDate - startDate).days // timeWindows\n",
        "    startDateGEE = ee.Date(startDateStr)\n",
        "\n",
        "    # print(f\"Start: {startDate}, End: {endDate}, Iterations: {daysIterations}\")\n",
        "\n",
        "    for i in range(0, daysIterations):\n",
        "        inputDates = getInputDates(i, startDateGEE)\n",
        "        fecha_inicio = inputDates['fecha_inicio']\n",
        "        fecha_fin = inputDates['fecha_fin']\n",
        "        fecha_str = inputDates['fecha_str']\n",
        "\n",
        "        # print(f\"\\n Exporting for {fecha_str}...\")\n",
        "\n",
        "        imageHolder = ee.Image().set('system:time_start', fecha_inicio.millis())\n",
        "\n",
        "        for variable_GREEN in variables_GREEN:\n",
        "            params = variables_GREEN[variable_GREEN]\n",
        "            variable = params[0]\n",
        "\n",
        "            imagen = calculate_GREEN(fecha_inicio, fecha_fin, variable)\n",
        "            image_export = imageHolder.addBands(imagen).select([variable, variable + '_UNC'])\n",
        "            image_export = image_export.set('system:time_start', fecha_inicio.millis())\n",
        "\n",
        "            exportar = ee.batch.Export.image.toAsset(\n",
        "                assetId=assetPath + fecha_str + variable_GREEN,\n",
        "                image=image_export,\n",
        "                maxPixels=4731453308,\n",
        "                description=fecha_str + variable_GREEN,\n",
        "                scale=20,\n",
        "                region=roi\n",
        "            )\n",
        "\n",
        "            exportar.start()\n",
        "\n",
        "\n",
        "maploop()"
      ],
      "metadata": {
        "id": "ADjBHtDIPxq8"
      },
      "execution_count": null,
      "outputs": []
    }
  ],
  "metadata": {
    "colab": {
      "provenance": []
    },
    "kernelspec": {
      "display_name": "Python 3",
      "name": "python3"
    },
    "language_info": {
      "name": "python"
    }
  },
  "nbformat": 4,
  "nbformat_minor": 0
}